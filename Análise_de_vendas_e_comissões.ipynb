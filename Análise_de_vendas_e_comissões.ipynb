{
  "nbformat": 4,
  "nbformat_minor": 0,
  "metadata": {
    "colab": {
      "name": "Análise de vendas e comissões.ipynb",
      "provenance": [],
      "collapsed_sections": [],
      "include_colab_link": true
    },
    "kernelspec": {
      "name": "python3",
      "display_name": "Python 3"
    },
    "language_info": {
      "name": "python"
    }
  },
  "cells": [
    {
      "cell_type": "markdown",
      "metadata": {
        "id": "view-in-github",
        "colab_type": "text"
      },
      "source": [
        "<a href=\"https://colab.research.google.com/github/viniciusbeckerdesouza/vendas_comissoes_fintech/blob/main/An%C3%A1lise_de_vendas_e_comiss%C3%B5es.ipynb\" target=\"_parent\"><img src=\"https://colab.research.google.com/assets/colab-badge.svg\" alt=\"Open In Colab\"/></a>"
      ]
    },
    {
      "cell_type": "markdown",
      "metadata": {
        "id": "XpU0Dfrp-RCg"
      },
      "source": [
        "# Relatório"
      ]
    },
    {
      "cell_type": "markdown",
      "metadata": {
        "id": "GPxWRLHR86bv"
      },
      "source": [
        "Este relatório apresenta análises e insights retirados de um dataset de vendas e comissões do período entre Janeiro e Julho de 2021.\n",
        "\n",
        "Os principais achados são:\n",
        "\n",
        "1. O ticket médio das vendas foi de R$214164,20.\n",
        "\n",
        "2. A comissão média foi de R$1505,22.\n",
        "\n",
        "3. Houve um pico de vendas em março, e desde então vem caindo.\n",
        "\n",
        "4. Existe uma forte correlação entre o valor de venda e o valor da comissão, a política de comissão 0.01 e o produto B. Esta relação poderia ser melhor explorada."
      ]
    },
    {
      "cell_type": "code",
      "metadata": {
        "id": "yojcZQk1jO3h"
      },
      "source": [
        "#@title\n",
        "import pandas as pd\n",
        "import numpy as np\n",
        "import matplotlib.pyplot as plt\n",
        "import seaborn as sns\n",
        "sns.set_context('paper')\n",
        "plt.rcParams['figure.figsize'] = (11,7)"
      ],
      "execution_count": 1,
      "outputs": []
    },
    {
      "cell_type": "code",
      "metadata": {
        "id": "2s0q7729jP2b",
        "colab": {
          "base_uri": "https://localhost:8080/",
          "height": 204
        },
        "outputId": "4064de7a-5170-44b7-b02f-e29b053e056a"
      },
      "source": [
        "#@title\n",
        "df = pd.read_excel('https://github.com/viniciusbeckerdesouza/vendas_comissoes_fintech/blob/main/fintech.xlsx?raw=true')\n",
        "df.head()"
      ],
      "execution_count": 4,
      "outputs": [
        {
          "output_type": "execute_result",
          "data": {
            "text/html": [
              "<div>\n",
              "<style scoped>\n",
              "    .dataframe tbody tr th:only-of-type {\n",
              "        vertical-align: middle;\n",
              "    }\n",
              "\n",
              "    .dataframe tbody tr th {\n",
              "        vertical-align: top;\n",
              "    }\n",
              "\n",
              "    .dataframe thead th {\n",
              "        text-align: right;\n",
              "    }\n",
              "</style>\n",
              "<table border=\"1\" class=\"dataframe\">\n",
              "  <thead>\n",
              "    <tr style=\"text-align: right;\">\n",
              "      <th></th>\n",
              "      <th>data_solicitacao</th>\n",
              "      <th>data_venda</th>\n",
              "      <th>data_pagto</th>\n",
              "      <th>valor_venda</th>\n",
              "      <th>pol_comissao</th>\n",
              "      <th>valor_comissao</th>\n",
              "      <th>estado_cliente</th>\n",
              "      <th>estado_vendedor</th>\n",
              "      <th>produto</th>\n",
              "      <th>vendedor_id</th>\n",
              "    </tr>\n",
              "  </thead>\n",
              "  <tbody>\n",
              "    <tr>\n",
              "      <th>0</th>\n",
              "      <td>2021-01-13</td>\n",
              "      <td>2021-01-12</td>\n",
              "      <td>2021-02-01 00:00:00</td>\n",
              "      <td>NaN</td>\n",
              "      <td>un.</td>\n",
              "      <td>750.0</td>\n",
              "      <td>SC</td>\n",
              "      <td>PR</td>\n",
              "      <td>A</td>\n",
              "      <td>V_1</td>\n",
              "    </tr>\n",
              "    <tr>\n",
              "      <th>1</th>\n",
              "      <td>2021-02-14</td>\n",
              "      <td>2021-02-16</td>\n",
              "      <td>2021-03-01 00:00:00</td>\n",
              "      <td>NaN</td>\n",
              "      <td>un.</td>\n",
              "      <td>750.0</td>\n",
              "      <td>SC</td>\n",
              "      <td>PR</td>\n",
              "      <td>A</td>\n",
              "      <td>V_1</td>\n",
              "    </tr>\n",
              "    <tr>\n",
              "      <th>2</th>\n",
              "      <td>2021-02-17</td>\n",
              "      <td>2021-02-18</td>\n",
              "      <td>2021-03-01 00:00:00</td>\n",
              "      <td>NaN</td>\n",
              "      <td>un.</td>\n",
              "      <td>750.0</td>\n",
              "      <td>NaN</td>\n",
              "      <td>PR</td>\n",
              "      <td>A</td>\n",
              "      <td>V_23</td>\n",
              "    </tr>\n",
              "    <tr>\n",
              "      <th>3</th>\n",
              "      <td>2021-03-21</td>\n",
              "      <td>2021-03-25</td>\n",
              "      <td>2021-04-01 00:00:00</td>\n",
              "      <td>NaN</td>\n",
              "      <td>un.</td>\n",
              "      <td>750.0</td>\n",
              "      <td>NaN</td>\n",
              "      <td>PR</td>\n",
              "      <td>A</td>\n",
              "      <td>V_23</td>\n",
              "    </tr>\n",
              "    <tr>\n",
              "      <th>4</th>\n",
              "      <td>2021-01-29</td>\n",
              "      <td>2021-01-31</td>\n",
              "      <td>2021-03-01 00:00:00</td>\n",
              "      <td>NaN</td>\n",
              "      <td>un.</td>\n",
              "      <td>750.0</td>\n",
              "      <td>NaN</td>\n",
              "      <td>PR</td>\n",
              "      <td>A</td>\n",
              "      <td>V_30</td>\n",
              "    </tr>\n",
              "  </tbody>\n",
              "</table>\n",
              "</div>"
            ],
            "text/plain": [
              "  data_solicitacao data_venda  ... produto  vendedor_id\n",
              "0       2021-01-13 2021-01-12  ...       A          V_1\n",
              "1       2021-02-14 2021-02-16  ...       A          V_1\n",
              "2       2021-02-17 2021-02-18  ...       A         V_23\n",
              "3       2021-03-21 2021-03-25  ...       A         V_23\n",
              "4       2021-01-29 2021-01-31  ...       A         V_30\n",
              "\n",
              "[5 rows x 10 columns]"
            ]
          },
          "metadata": {},
          "execution_count": 4
        }
      ]
    },
    {
      "cell_type": "code",
      "metadata": {
        "id": "p9-GnUv9mwMV"
      },
      "source": [
        "#@title\n",
        "df['mes_venda'] = df['data_venda'].dt.month\n",
        "df['dia_semana'] = df['data_venda'].dt.day_name()"
      ],
      "execution_count": 5,
      "outputs": []
    },
    {
      "cell_type": "code",
      "metadata": {
        "id": "eCb2NagSpiGQ",
        "colab": {
          "base_uri": "https://localhost:8080/",
          "height": 309
        },
        "outputId": "c50fe1c6-5c5d-4303-9195-7c57fe83cde6"
      },
      "source": [
        "#@title\n",
        "df.head()"
      ],
      "execution_count": 6,
      "outputs": [
        {
          "output_type": "execute_result",
          "data": {
            "text/html": [
              "<div>\n",
              "<style scoped>\n",
              "    .dataframe tbody tr th:only-of-type {\n",
              "        vertical-align: middle;\n",
              "    }\n",
              "\n",
              "    .dataframe tbody tr th {\n",
              "        vertical-align: top;\n",
              "    }\n",
              "\n",
              "    .dataframe thead th {\n",
              "        text-align: right;\n",
              "    }\n",
              "</style>\n",
              "<table border=\"1\" class=\"dataframe\">\n",
              "  <thead>\n",
              "    <tr style=\"text-align: right;\">\n",
              "      <th></th>\n",
              "      <th>data_solicitacao</th>\n",
              "      <th>data_venda</th>\n",
              "      <th>data_pagto</th>\n",
              "      <th>valor_venda</th>\n",
              "      <th>pol_comissao</th>\n",
              "      <th>valor_comissao</th>\n",
              "      <th>estado_cliente</th>\n",
              "      <th>estado_vendedor</th>\n",
              "      <th>produto</th>\n",
              "      <th>vendedor_id</th>\n",
              "      <th>mes_venda</th>\n",
              "      <th>dia_semana</th>\n",
              "    </tr>\n",
              "  </thead>\n",
              "  <tbody>\n",
              "    <tr>\n",
              "      <th>0</th>\n",
              "      <td>2021-01-13</td>\n",
              "      <td>2021-01-12</td>\n",
              "      <td>2021-02-01 00:00:00</td>\n",
              "      <td>NaN</td>\n",
              "      <td>un.</td>\n",
              "      <td>750.0</td>\n",
              "      <td>SC</td>\n",
              "      <td>PR</td>\n",
              "      <td>A</td>\n",
              "      <td>V_1</td>\n",
              "      <td>1</td>\n",
              "      <td>Tuesday</td>\n",
              "    </tr>\n",
              "    <tr>\n",
              "      <th>1</th>\n",
              "      <td>2021-02-14</td>\n",
              "      <td>2021-02-16</td>\n",
              "      <td>2021-03-01 00:00:00</td>\n",
              "      <td>NaN</td>\n",
              "      <td>un.</td>\n",
              "      <td>750.0</td>\n",
              "      <td>SC</td>\n",
              "      <td>PR</td>\n",
              "      <td>A</td>\n",
              "      <td>V_1</td>\n",
              "      <td>2</td>\n",
              "      <td>Tuesday</td>\n",
              "    </tr>\n",
              "    <tr>\n",
              "      <th>2</th>\n",
              "      <td>2021-02-17</td>\n",
              "      <td>2021-02-18</td>\n",
              "      <td>2021-03-01 00:00:00</td>\n",
              "      <td>NaN</td>\n",
              "      <td>un.</td>\n",
              "      <td>750.0</td>\n",
              "      <td>NaN</td>\n",
              "      <td>PR</td>\n",
              "      <td>A</td>\n",
              "      <td>V_23</td>\n",
              "      <td>2</td>\n",
              "      <td>Thursday</td>\n",
              "    </tr>\n",
              "    <tr>\n",
              "      <th>3</th>\n",
              "      <td>2021-03-21</td>\n",
              "      <td>2021-03-25</td>\n",
              "      <td>2021-04-01 00:00:00</td>\n",
              "      <td>NaN</td>\n",
              "      <td>un.</td>\n",
              "      <td>750.0</td>\n",
              "      <td>NaN</td>\n",
              "      <td>PR</td>\n",
              "      <td>A</td>\n",
              "      <td>V_23</td>\n",
              "      <td>3</td>\n",
              "      <td>Thursday</td>\n",
              "    </tr>\n",
              "    <tr>\n",
              "      <th>4</th>\n",
              "      <td>2021-01-29</td>\n",
              "      <td>2021-01-31</td>\n",
              "      <td>2021-03-01 00:00:00</td>\n",
              "      <td>NaN</td>\n",
              "      <td>un.</td>\n",
              "      <td>750.0</td>\n",
              "      <td>NaN</td>\n",
              "      <td>PR</td>\n",
              "      <td>A</td>\n",
              "      <td>V_30</td>\n",
              "      <td>1</td>\n",
              "      <td>Sunday</td>\n",
              "    </tr>\n",
              "  </tbody>\n",
              "</table>\n",
              "</div>"
            ],
            "text/plain": [
              "  data_solicitacao data_venda  ... mes_venda  dia_semana\n",
              "0       2021-01-13 2021-01-12  ...         1     Tuesday\n",
              "1       2021-02-14 2021-02-16  ...         2     Tuesday\n",
              "2       2021-02-17 2021-02-18  ...         2    Thursday\n",
              "3       2021-03-21 2021-03-25  ...         3    Thursday\n",
              "4       2021-01-29 2021-01-31  ...         1      Sunday\n",
              "\n",
              "[5 rows x 12 columns]"
            ]
          },
          "metadata": {},
          "execution_count": 6
        }
      ]
    },
    {
      "cell_type": "code",
      "metadata": {
        "colab": {
          "base_uri": "https://localhost:8080/",
          "height": 297
        },
        "id": "v4Yf6TeQ4LMl",
        "outputId": "ae8a431b-5c75-4d11-d11f-b4cee8547e70"
      },
      "source": [
        "#@title\n",
        "df[['valor_venda',\t'valor_comissao']].describe()"
      ],
      "execution_count": 7,
      "outputs": [
        {
          "output_type": "execute_result",
          "data": {
            "text/html": [
              "<div>\n",
              "<style scoped>\n",
              "    .dataframe tbody tr th:only-of-type {\n",
              "        vertical-align: middle;\n",
              "    }\n",
              "\n",
              "    .dataframe tbody tr th {\n",
              "        vertical-align: top;\n",
              "    }\n",
              "\n",
              "    .dataframe thead th {\n",
              "        text-align: right;\n",
              "    }\n",
              "</style>\n",
              "<table border=\"1\" class=\"dataframe\">\n",
              "  <thead>\n",
              "    <tr style=\"text-align: right;\">\n",
              "      <th></th>\n",
              "      <th>valor_venda</th>\n",
              "      <th>valor_comissao</th>\n",
              "    </tr>\n",
              "  </thead>\n",
              "  <tbody>\n",
              "    <tr>\n",
              "      <th>count</th>\n",
              "      <td>3.800000e+01</td>\n",
              "      <td>91.000000</td>\n",
              "    </tr>\n",
              "    <tr>\n",
              "      <th>mean</th>\n",
              "      <td>2.141642e+05</td>\n",
              "      <td>1505.222418</td>\n",
              "    </tr>\n",
              "    <tr>\n",
              "      <th>std</th>\n",
              "      <td>3.053056e+05</td>\n",
              "      <td>2472.852681</td>\n",
              "    </tr>\n",
              "    <tr>\n",
              "      <th>min</th>\n",
              "      <td>2.000000e+03</td>\n",
              "      <td>52.000000</td>\n",
              "    </tr>\n",
              "    <tr>\n",
              "      <th>25%</th>\n",
              "      <td>8.782500e+03</td>\n",
              "      <td>108.500000</td>\n",
              "    </tr>\n",
              "    <tr>\n",
              "      <th>50%</th>\n",
              "      <td>8.800000e+04</td>\n",
              "      <td>450.000000</td>\n",
              "    </tr>\n",
              "    <tr>\n",
              "      <th>75%</th>\n",
              "      <td>2.640000e+05</td>\n",
              "      <td>750.000000</td>\n",
              "    </tr>\n",
              "    <tr>\n",
              "      <th>max</th>\n",
              "      <td>1.092000e+06</td>\n",
              "      <td>10920.000000</td>\n",
              "    </tr>\n",
              "  </tbody>\n",
              "</table>\n",
              "</div>"
            ],
            "text/plain": [
              "        valor_venda  valor_comissao\n",
              "count  3.800000e+01       91.000000\n",
              "mean   2.141642e+05     1505.222418\n",
              "std    3.053056e+05     2472.852681\n",
              "min    2.000000e+03       52.000000\n",
              "25%    8.782500e+03      108.500000\n",
              "50%    8.800000e+04      450.000000\n",
              "75%    2.640000e+05      750.000000\n",
              "max    1.092000e+06    10920.000000"
            ]
          },
          "metadata": {},
          "execution_count": 7
        }
      ]
    },
    {
      "cell_type": "markdown",
      "metadata": {
        "id": "jeeAvDKe4Wk3"
      },
      "source": [
        "O **ticket médio** das vendas foi de R$214164,20.\n",
        "\n",
        "A **comissão média** foi de R$1505,22."
      ]
    },
    {
      "cell_type": "code",
      "metadata": {
        "colab": {
          "base_uri": "https://localhost:8080/",
          "height": 173
        },
        "id": "VXWssIIg25q7",
        "outputId": "c393a9a4-ee5f-42ae-886a-d17b244d17e9"
      },
      "source": [
        "#@title\n",
        "df.describe(include='object')"
      ],
      "execution_count": 8,
      "outputs": [
        {
          "output_type": "execute_result",
          "data": {
            "text/html": [
              "<div>\n",
              "<style scoped>\n",
              "    .dataframe tbody tr th:only-of-type {\n",
              "        vertical-align: middle;\n",
              "    }\n",
              "\n",
              "    .dataframe tbody tr th {\n",
              "        vertical-align: top;\n",
              "    }\n",
              "\n",
              "    .dataframe thead th {\n",
              "        text-align: right;\n",
              "    }\n",
              "</style>\n",
              "<table border=\"1\" class=\"dataframe\">\n",
              "  <thead>\n",
              "    <tr style=\"text-align: right;\">\n",
              "      <th></th>\n",
              "      <th>data_pagto</th>\n",
              "      <th>pol_comissao</th>\n",
              "      <th>estado_cliente</th>\n",
              "      <th>estado_vendedor</th>\n",
              "      <th>produto</th>\n",
              "      <th>vendedor_id</th>\n",
              "      <th>dia_semana</th>\n",
              "    </tr>\n",
              "  </thead>\n",
              "  <tbody>\n",
              "    <tr>\n",
              "      <th>count</th>\n",
              "      <td>91</td>\n",
              "      <td>98</td>\n",
              "      <td>34</td>\n",
              "      <td>98</td>\n",
              "      <td>98</td>\n",
              "      <td>98</td>\n",
              "      <td>98</td>\n",
              "    </tr>\n",
              "    <tr>\n",
              "      <th>unique</th>\n",
              "      <td>25</td>\n",
              "      <td>5</td>\n",
              "      <td>6</td>\n",
              "      <td>9</td>\n",
              "      <td>6</td>\n",
              "      <td>38</td>\n",
              "      <td>7</td>\n",
              "    </tr>\n",
              "    <tr>\n",
              "      <th>top</th>\n",
              "      <td>2021-03-01 00:00:00</td>\n",
              "      <td>un.</td>\n",
              "      <td>SP</td>\n",
              "      <td>RJ</td>\n",
              "      <td>A</td>\n",
              "      <td>V_21</td>\n",
              "      <td>Friday</td>\n",
              "    </tr>\n",
              "    <tr>\n",
              "      <th>freq</th>\n",
              "      <td>10</td>\n",
              "      <td>60</td>\n",
              "      <td>12</td>\n",
              "      <td>20</td>\n",
              "      <td>20</td>\n",
              "      <td>8</td>\n",
              "      <td>18</td>\n",
              "    </tr>\n",
              "  </tbody>\n",
              "</table>\n",
              "</div>"
            ],
            "text/plain": [
              "                 data_pagto pol_comissao  ... vendedor_id dia_semana\n",
              "count                    91           98  ...          98         98\n",
              "unique                   25            5  ...          38          7\n",
              "top     2021-03-01 00:00:00          un.  ...        V_21     Friday\n",
              "freq                     10           60  ...           8         18\n",
              "\n",
              "[4 rows x 7 columns]"
            ]
          },
          "metadata": {},
          "execution_count": 8
        }
      ]
    },
    {
      "cell_type": "markdown",
      "metadata": {
        "id": "e_Awmx-b28yS"
      },
      "source": [
        "A **política de comissão mais comum** é por unidade.\n",
        "\n",
        "O **produto mais vendido** é o D.\n",
        "\n",
        "O vendedor V_21 foi quem fez **mais vendas** no período.\n",
        "\n",
        "Sexta-feira foi o **dia da semana com mais vendas**."
      ]
    },
    {
      "cell_type": "code",
      "metadata": {
        "colab": {
          "base_uri": "https://localhost:8080/",
          "height": 294
        },
        "id": "lVeptEZujSvZ",
        "outputId": "d0542c1b-3a8f-471f-ed4c-e7ac3f990ec0"
      },
      "source": [
        "#@title\n",
        "sns.countplot(data=df, x='produto', order=df['produto'].value_counts().index)\n",
        "plt.title('Vendas por produto')\n",
        "plt.show()"
      ],
      "execution_count": 9,
      "outputs": [
        {
          "output_type": "display_data",
          "data": {
            "image/png": "[encoded data removed]",
            "text/plain": [
              "<Figure size 432x288 with 1 Axes>"
            ]
          },
          "metadata": {
            "needs_background": "light"
          }
        }
      ]
    },
    {
      "cell_type": "markdown",
      "metadata": {
        "id": "M_PftTFR6zzx"
      },
      "source": [
        "Os produtos **A, D e F** são os mais vendidos."
      ]
    },
    {
      "cell_type": "code",
      "metadata": {
        "colab": {
          "base_uri": "https://localhost:8080/",
          "height": 294
        },
        "id": "ZUviHyB_X4ry",
        "outputId": "1ea32099-3173-4dd6-c831-7877e82d61d4"
      },
      "source": [
        "#@title\n",
        "sns.barplot(data=df, x='produto', y='valor_venda', ci=None)\n",
        "plt.title('Valor total de venda por produto')\n",
        "plt.show()"
      ],
      "execution_count": 10,
      "outputs": [
        {
          "output_type": "display_data",
          "data": {
            "image/png": "[encoded data removed]",
            "text/plain": [
              "<Figure size 432x288 with 1 Axes>"
            ]
          },
          "metadata": {
            "needs_background": "light"
          }
        }
      ]
    },
    {
      "cell_type": "markdown",
      "metadata": {
        "id": "zdIU8NUw67hQ"
      },
      "source": [
        "**Mas o produto B** é o que gera mais valor de venda.\n",
        "Na verdade, os produtos mais vendidos são gratuitos, aparentemente."
      ]
    },
    {
      "cell_type": "code",
      "metadata": {
        "colab": {
          "base_uri": "https://localhost:8080/",
          "height": 294
        },
        "id": "KvzGSouzeG0d",
        "outputId": "9aba277c-adba-482c-ea90-ef1b0caba76f"
      },
      "source": [
        "#@title\n",
        "sns.barplot(data=df, x='produto', y='valor_comissao', ci=None)\n",
        "plt.title('Valor total de comissão por produto')\n",
        "plt.show()"
      ],
      "execution_count": 11,
      "outputs": [
        {
          "output_type": "display_data",
          "data": {
            "image/png": "[encoded data removed]",
            "text/plain": [
              "<Figure size 432x288 with 1 Axes>"
            ]
          },
          "metadata": {
            "needs_background": "light"
          }
        }
      ]
    },
    {
      "cell_type": "markdown",
      "metadata": {
        "id": "pXYfTrR-7NuM"
      },
      "source": [
        "Os produtos que geram mais comissão são o **B e E**. Os mesmos que acumulam maior valor de venda.\n"
      ]
    },
    {
      "cell_type": "code",
      "metadata": {
        "colab": {
          "base_uri": "https://localhost:8080/",
          "height": 295
        },
        "id": "sc_eUsIqkOYf",
        "outputId": "f983d37e-59f4-4300-a130-d351206be4a4"
      },
      "source": [
        "#@title\n",
        "sns.countplot(data=df, x='pol_comissao', order=df['pol_comissao'].value_counts().index)\n",
        "plt.title('Quantidade de vendas por política de comissão')\n",
        "plt.show()"
      ],
      "execution_count": 12,
      "outputs": [
        {
          "output_type": "display_data",
          "data": {
            "image/png": "[encoded data removed]",
            "text/plain": [
              "<Figure size 432x288 with 1 Axes>"
            ]
          },
          "metadata": {
            "needs_background": "light"
          }
        }
      ]
    },
    {
      "cell_type": "markdown",
      "metadata": {
        "id": "0q7NCd4X721r"
      },
      "source": [
        "A política de comissão mais comum é a **por unidade**."
      ]
    },
    {
      "cell_type": "code",
      "metadata": {
        "colab": {
          "base_uri": "https://localhost:8080/",
          "height": 295
        },
        "id": "QYxw_gaeYjcD",
        "outputId": "3733da49-ca3b-4c56-973b-fa93c8db43b2"
      },
      "source": [
        "#@title\n",
        "sns.barplot(data=df, x='pol_comissao', y='valor_venda', ci=None)\n",
        "plt.title('Valor total de vendas por política de comissão')\n",
        "plt.show()"
      ],
      "execution_count": 13,
      "outputs": [
        {
          "output_type": "display_data",
          "data": {
            "image/png": "[encoded data removed]",
            "text/plain": [
              "<Figure size 432x288 with 1 Axes>"
            ]
          },
          "metadata": {
            "needs_background": "light"
          }
        }
      ]
    },
    {
      "cell_type": "markdown",
      "metadata": {
        "id": "kEE7s7St8BGQ"
      },
      "source": [
        "As políticas de comissão com maior valor de venda são **0.01 e 1%**."
      ]
    },
    {
      "cell_type": "code",
      "metadata": {
        "colab": {
          "base_uri": "https://localhost:8080/",
          "height": 295
        },
        "id": "UdpNw83PdeOs",
        "outputId": "1dd33b41-a2db-4a6e-ad6b-408d57e0ca7b"
      },
      "source": [
        "#@title\n",
        "sns.barplot(data=df, x='pol_comissao', y='valor_comissao', ci=None)\n",
        "plt.title('Valor total de comissão por política de comissão')\n",
        "plt.show()"
      ],
      "execution_count": 14,
      "outputs": [
        {
          "output_type": "display_data",
          "data": {
            "image/png": "[encoded data removed]",
            "text/plain": [
              "<Figure size 432x288 with 1 Axes>"
            ]
          },
          "metadata": {
            "needs_background": "light"
          }
        }
      ]
    },
    {
      "cell_type": "markdown",
      "metadata": {
        "id": "RZ-JU0328KQJ"
      },
      "source": [
        "As políticas **0.01 e 0.04** registram maior valor de comissão acumulado."
      ]
    },
    {
      "cell_type": "code",
      "metadata": {
        "colab": {
          "base_uri": "https://localhost:8080/",
          "height": 295
        },
        "id": "mQ_Ei_lDmO9_",
        "outputId": "81ce7524-9833-418d-bb57-1be7e155d586"
      },
      "source": [
        "#@title\n",
        "sns.countplot(data=df, x='estado_cliente', order=df['estado_cliente'].value_counts().index)\n",
        "plt.title('Clientes por Estado')\n",
        "plt.show()"
      ],
      "execution_count": 15,
      "outputs": [
        {
          "output_type": "display_data",
          "data": {
            "image/png": "[encoded data removed]",
            "text/plain": [
              "<Figure size 432x288 with 1 Axes>"
            ]
          },
          "metadata": {
            "needs_background": "light"
          }
        }
      ]
    },
    {
      "cell_type": "markdown",
      "metadata": {
        "id": "rwnYariQ8Tvv"
      },
      "source": [
        "**São Paulo** é o Estado com mais clientes."
      ]
    },
    {
      "cell_type": "code",
      "metadata": {
        "colab": {
          "base_uri": "https://localhost:8080/",
          "height": 295
        },
        "id": "iFke2RgHmXfI",
        "outputId": "fa920604-741c-4b92-88db-8e6f840deba1"
      },
      "source": [
        "#@title\n",
        "sns.countplot(data=df, x='estado_vendedor', order=df['estado_vendedor'].value_counts().index)\n",
        "plt.title('Vendedores por Estado')\n",
        "plt.show()"
      ],
      "execution_count": 16,
      "outputs": [
        {
          "output_type": "display_data",
          "data": {
            "image/png": "[encoded data removed]",
            "text/plain": [
              "<Figure size 432x288 with 1 Axes>"
            ]
          },
          "metadata": {
            "needs_background": "light"
          }
        }
      ]
    },
    {
      "cell_type": "markdown",
      "metadata": {
        "id": "z6OTGgxK8ZuT"
      },
      "source": [
        "Os Estados com mais vendedores são **Rio de Janeiro, Rio Grande do Sul, São Paulo e Santa Catarina**."
      ]
    },
    {
      "cell_type": "code",
      "metadata": {
        "colab": {
          "base_uri": "https://localhost:8080/",
          "height": 295
        },
        "id": "JPbQObAImc-M",
        "outputId": "b10d8a5a-7fd0-4848-a93f-4eb27f0d752b"
      },
      "source": [
        "#@title\n",
        "sns.countplot(data=df, x='mes_venda')\n",
        "plt.title('Total de vendas por mês')\n",
        "plt.show()"
      ],
      "execution_count": 17,
      "outputs": [
        {
          "output_type": "display_data",
          "data": {
            "image/png": "[encoded data removed]",
            "text/plain": [
              "<Figure size 432x288 with 1 Axes>"
            ]
          },
          "metadata": {
            "needs_background": "light"
          }
        }
      ]
    },
    {
      "cell_type": "markdown",
      "metadata": {
        "id": "gIkB3Qj78lRl"
      },
      "source": [
        "**As vendas subiram em Fevereiro e Março, caindo a partir de Abril.**"
      ]
    },
    {
      "cell_type": "code",
      "metadata": {
        "colab": {
          "base_uri": "https://localhost:8080/",
          "height": 295
        },
        "id": "xq82civxm69r",
        "outputId": "a3ff2bc1-0846-4052-d7d6-c358df6e2503"
      },
      "source": [
        "#@title\n",
        "sns.countplot(data=df, x='dia_semana', order=df['dia_semana'].value_counts().index)\n",
        "plt.title('Total de vendas por dia da semana')\n",
        "plt.show()"
      ],
      "execution_count": 18,
      "outputs": [
        {
          "output_type": "display_data",
          "data": {
            "image/png": "[encoded data removed]",
            "text/plain": [
              "<Figure size 432x288 with 1 Axes>"
            ]
          },
          "metadata": {
            "needs_background": "light"
          }
        }
      ]
    },
    {
      "cell_type": "markdown",
      "metadata": {
        "id": "rQeNNdrq8vwp"
      },
      "source": [
        "**Terças e sextas** são os dias com mais vendas."
      ]
    },
    {
      "cell_type": "code",
      "metadata": {
        "colab": {
          "base_uri": "https://localhost:8080/",
          "height": 295
        },
        "id": "YpIls2RfnZoc",
        "outputId": "d78dff4f-d04d-406a-c446-5d485667013f"
      },
      "source": [
        "#@title\n",
        "sns.regplot(data=df, x='valor_venda', y='valor_comissao')\n",
        "plt.title('Relação entre valor de venda e valor de comissão')\n",
        "plt.show()"
      ],
      "execution_count": 19,
      "outputs": [
        {
          "output_type": "display_data",
          "data": {
            "image/png": "[encoded data removed]",
            "text/plain": [
              "<Figure size 432x288 with 1 Axes>"
            ]
          },
          "metadata": {
            "needs_background": "light"
          }
        }
      ]
    },
    {
      "cell_type": "markdown",
      "metadata": {
        "id": "AvoHuPiI9AmY"
      },
      "source": [
        "Existe uma relação positiva entre valor de venda e valor de comissão: **quanto maior o valor de venda maior o valor de comissão**.\n",
        "\n",
        "Mas em alguns casos esta regra não vale. *Isso poderia ser melhor explorado com mais dados*."
      ]
    },
    {
      "cell_type": "code",
      "metadata": {
        "colab": {
          "base_uri": "https://localhost:8080/",
          "height": 441
        },
        "id": "DG2XicXmslVc",
        "outputId": "33a33a00-6d69-4561-e4ea-6a5e48ccd14b"
      },
      "source": [
        "#@title\n",
        "sns.jointplot(data=df, x='valor_venda', y='valor_comissao')\n",
        "\n",
        "plt.show()"
      ],
      "execution_count": 20,
      "outputs": [
        {
          "output_type": "display_data",
          "data": {
            "image/png": "[encoded data removed]",
            "text/plain": [
              "<Figure size 432x432 with 3 Axes>"
            ]
          },
          "metadata": {
            "needs_background": "light"
          }
        }
      ]
    },
    {
      "cell_type": "markdown",
      "metadata": {
        "id": "jahzZ17I9UMe"
      },
      "source": [
        "Os **valores mais baixos são mais comuns** tanto para o valor de venda quanto para o valor de comissão."
      ]
    },
    {
      "cell_type": "code",
      "metadata": {
        "colab": {
          "base_uri": "https://localhost:8080/",
          "height": 295
        },
        "id": "Dbqf3HkEenwu",
        "outputId": "f494167d-e0a2-4e64-cc76-d82a3197955e"
      },
      "source": [
        "#@title\n",
        "sns.lineplot(data=df, x='data_venda', y='valor_venda')\n",
        "plt.title('Vendas ao longo do tempo')\n",
        "plt.show()"
      ],
      "execution_count": 21,
      "outputs": [
        {
          "output_type": "display_data",
          "data": {
            "image/png": "[encoded data removed]",
            "text/plain": [
              "<Figure size 432x288 with 1 Axes>"
            ]
          },
          "metadata": {
            "needs_background": "light"
          }
        }
      ]
    },
    {
      "cell_type": "markdown",
      "metadata": {
        "id": "qHUegkI49jyP"
      },
      "source": [
        "Existem alguns **picos de venda** ao longo do período.\n",
        "\n",
        "Poderíamos cruzar estes dados com outras informações para entender o motivo destes picos (proximidade de eventos importanes, dia do pagamento, etc)."
      ]
    },
    {
      "cell_type": "code",
      "metadata": {
        "colab": {
          "base_uri": "https://localhost:8080/",
          "height": 204
        },
        "id": "E9Yr8Wejg4XP",
        "outputId": "064a5557-3df2-41ce-dac2-573b7f05bf8f"
      },
      "source": [
        "#@title\n",
        "media_comissao = df.groupby('pol_comissao').mean().reset_index()\n",
        "media_comissao"
      ],
      "execution_count": 22,
      "outputs": [
        {
          "output_type": "execute_result",
          "data": {
            "text/html": [
              "<div>\n",
              "<style scoped>\n",
              "    .dataframe tbody tr th:only-of-type {\n",
              "        vertical-align: middle;\n",
              "    }\n",
              "\n",
              "    .dataframe tbody tr th {\n",
              "        vertical-align: top;\n",
              "    }\n",
              "\n",
              "    .dataframe thead th {\n",
              "        text-align: right;\n",
              "    }\n",
              "</style>\n",
              "<table border=\"1\" class=\"dataframe\">\n",
              "  <thead>\n",
              "    <tr style=\"text-align: right;\">\n",
              "      <th></th>\n",
              "      <th>pol_comissao</th>\n",
              "      <th>valor_venda</th>\n",
              "      <th>valor_comissao</th>\n",
              "      <th>mes_venda</th>\n",
              "    </tr>\n",
              "  </thead>\n",
              "  <tbody>\n",
              "    <tr>\n",
              "      <th>0</th>\n",
              "      <td>0.01</td>\n",
              "      <td>638444.444444</td>\n",
              "      <td>6045.000000</td>\n",
              "      <td>5.111111</td>\n",
              "    </tr>\n",
              "    <tr>\n",
              "      <th>1</th>\n",
              "      <td>0.026</td>\n",
              "      <td>8457.777778</td>\n",
              "      <td>213.480000</td>\n",
              "      <td>3.888889</td>\n",
              "    </tr>\n",
              "    <tr>\n",
              "      <th>2</th>\n",
              "      <td>0.04</td>\n",
              "      <td>149600.000000</td>\n",
              "      <td>5984.000000</td>\n",
              "      <td>3.500000</td>\n",
              "    </tr>\n",
              "    <tr>\n",
              "      <th>3</th>\n",
              "      <td>1.0%</td>\n",
              "      <td>744000.000000</td>\n",
              "      <td>NaN</td>\n",
              "      <td>3.000000</td>\n",
              "    </tr>\n",
              "    <tr>\n",
              "      <th>4</th>\n",
              "      <td>un.</td>\n",
              "      <td>NaN</td>\n",
              "      <td>433.333333</td>\n",
              "      <td>2.433333</td>\n",
              "    </tr>\n",
              "  </tbody>\n",
              "</table>\n",
              "</div>"
            ],
            "text/plain": [
              "  pol_comissao    valor_venda  valor_comissao  mes_venda\n",
              "0         0.01  638444.444444     6045.000000   5.111111\n",
              "1        0.026    8457.777778      213.480000   3.888889\n",
              "2         0.04  149600.000000     5984.000000   3.500000\n",
              "3         1.0%  744000.000000             NaN   3.000000\n",
              "4          un.            NaN      433.333333   2.433333"
            ]
          },
          "metadata": {},
          "execution_count": 22
        }
      ]
    },
    {
      "cell_type": "code",
      "metadata": {
        "colab": {
          "base_uri": "https://localhost:8080/",
          "height": 295
        },
        "id": "xnrFlP_gfdXj",
        "outputId": "61a4bf2f-8d8c-4572-89e8-cd5551ef1df2"
      },
      "source": [
        "#@title\n",
        "sns.barplot(data=media_comissao, x='pol_comissao', y='valor_comissao')\n",
        "plt.title('Valor médio da comissão por política de comissão')\n",
        "plt.show()"
      ],
      "execution_count": 23,
      "outputs": [
        {
          "output_type": "display_data",
          "data": {
            "image/png": "[encoded data removed]",
            "text/plain": [
              "<Figure size 432x288 with 1 Axes>"
            ]
          },
          "metadata": {
            "needs_background": "light"
          }
        }
      ]
    },
    {
      "cell_type": "markdown",
      "metadata": {
        "id": "9eEyoiDI9rbs"
      },
      "source": [
        "O **valor médio da comissão** é bem expressivo quando a política de comissão é de 0,01 ou de 0,04."
      ]
    },
    {
      "cell_type": "code",
      "metadata": {
        "colab": {
          "base_uri": "https://localhost:8080/",
          "height": 295
        },
        "id": "QIsSkS4mxPEl",
        "outputId": "caaaca19-22a5-4642-cf8d-b0146ed984d8"
      },
      "source": [
        "#@title\n",
        "sns.barplot(data=media_comissao, x='pol_comissao', y='valor_venda')\n",
        "plt.title('Valor médio da venda por política de comissão')\n",
        "plt.show()"
      ],
      "execution_count": 24,
      "outputs": [
        {
          "output_type": "display_data",
          "data": {
            "image/png": "[encoded data removed]",
            "text/plain": [
              "<Figure size 432x288 with 1 Axes>"
            ]
          },
          "metadata": {
            "needs_background": "light"
          }
        }
      ]
    },
    {
      "cell_type": "markdown",
      "metadata": {
        "id": "Sg4EcB-a-0_w"
      },
      "source": [
        "Quando olhamos para o **valor médio de venda**, a política de comissão que se destaca é a de 1%."
      ]
    },
    {
      "cell_type": "code",
      "metadata": {
        "colab": {
          "base_uri": "https://localhost:8080/",
          "height": 235
        },
        "id": "MX3nqeA8i_eC",
        "outputId": "d7fa3fbc-c044-46e6-8027-a08158e2e913"
      },
      "source": [
        "#@title\n",
        "media_comissao_por_produto = df.groupby('produto').mean().reset_index()\n",
        "media_comissao_por_produto"
      ],
      "execution_count": 25,
      "outputs": [
        {
          "output_type": "execute_result",
          "data": {
            "text/html": [
              "<div>\n",
              "<style scoped>\n",
              "    .dataframe tbody tr th:only-of-type {\n",
              "        vertical-align: middle;\n",
              "    }\n",
              "\n",
              "    .dataframe tbody tr th {\n",
              "        vertical-align: top;\n",
              "    }\n",
              "\n",
              "    .dataframe thead th {\n",
              "        text-align: right;\n",
              "    }\n",
              "</style>\n",
              "<table border=\"1\" class=\"dataframe\">\n",
              "  <thead>\n",
              "    <tr style=\"text-align: right;\">\n",
              "      <th></th>\n",
              "      <th>produto</th>\n",
              "      <th>valor_venda</th>\n",
              "      <th>valor_comissao</th>\n",
              "      <th>mes_venda</th>\n",
              "    </tr>\n",
              "  </thead>\n",
              "  <tbody>\n",
              "    <tr>\n",
              "      <th>0</th>\n",
              "      <td>A</td>\n",
              "      <td>NaN</td>\n",
              "      <td>750.00</td>\n",
              "      <td>1.900000</td>\n",
              "    </tr>\n",
              "    <tr>\n",
              "      <th>1</th>\n",
              "      <td>B</td>\n",
              "      <td>649000.000000</td>\n",
              "      <td>6045.00</td>\n",
              "      <td>4.900000</td>\n",
              "    </tr>\n",
              "    <tr>\n",
              "      <th>2</th>\n",
              "      <td>C</td>\n",
              "      <td>8457.777778</td>\n",
              "      <td>213.48</td>\n",
              "      <td>3.888889</td>\n",
              "    </tr>\n",
              "    <tr>\n",
              "      <th>3</th>\n",
              "      <td>D</td>\n",
              "      <td>NaN</td>\n",
              "      <td>450.00</td>\n",
              "      <td>2.900000</td>\n",
              "    </tr>\n",
              "    <tr>\n",
              "      <th>4</th>\n",
              "      <td>E</td>\n",
              "      <td>149600.000000</td>\n",
              "      <td>5984.00</td>\n",
              "      <td>3.500000</td>\n",
              "    </tr>\n",
              "    <tr>\n",
              "      <th>5</th>\n",
              "      <td>F</td>\n",
              "      <td>NaN</td>\n",
              "      <td>100.00</td>\n",
              "      <td>2.500000</td>\n",
              "    </tr>\n",
              "  </tbody>\n",
              "</table>\n",
              "</div>"
            ],
            "text/plain": [
              "  produto    valor_venda  valor_comissao  mes_venda\n",
              "0       A            NaN          750.00   1.900000\n",
              "1       B  649000.000000         6045.00   4.900000\n",
              "2       C    8457.777778          213.48   3.888889\n",
              "3       D            NaN          450.00   2.900000\n",
              "4       E  149600.000000         5984.00   3.500000\n",
              "5       F            NaN          100.00   2.500000"
            ]
          },
          "metadata": {},
          "execution_count": 25
        }
      ]
    },
    {
      "cell_type": "code",
      "metadata": {
        "colab": {
          "base_uri": "https://localhost:8080/",
          "height": 294
        },
        "id": "ZzD1PEzAh2a8",
        "outputId": "4c3579ed-2f1d-4112-95d3-8f4fb46b4706"
      },
      "source": [
        "#@title\n",
        "sns.barplot(data=media_comissao_por_produto, x='produto', y='valor_comissao')\n",
        "plt.title('Valor médio de comissão por produto')\n",
        "plt.show()"
      ],
      "execution_count": 26,
      "outputs": [
        {
          "output_type": "display_data",
          "data": {
            "image/png": "[encoded data removed]",
            "text/plain": [
              "<Figure size 432x288 with 1 Axes>"
            ]
          },
          "metadata": {
            "needs_background": "light"
          }
        }
      ]
    },
    {
      "cell_type": "markdown",
      "metadata": {
        "id": "39MfAtz__z13"
      },
      "source": [
        "Os produtos B e E têm a melhor **média de comissões**."
      ]
    },
    {
      "cell_type": "code",
      "metadata": {
        "colab": {
          "base_uri": "https://localhost:8080/",
          "height": 294
        },
        "id": "D57k4YIwxUiR",
        "outputId": "19e99d06-6991-42bd-e542-28501a332cb3"
      },
      "source": [
        "#@title\n",
        "sns.barplot(data=media_comissao_por_produto, x='produto', y='valor_venda')\n",
        "plt.title('Valor médio de venda por produto')\n",
        "plt.show()"
      ],
      "execution_count": 27,
      "outputs": [
        {
          "output_type": "display_data",
          "data": {
            "image/png": "[encoded data removed]",
            "text/plain": [
              "<Figure size 432x288 with 1 Axes>"
            ]
          },
          "metadata": {
            "needs_background": "light"
          }
        }
      ]
    },
    {
      "cell_type": "markdown",
      "metadata": {
        "id": "IzxEbod2_-ru"
      },
      "source": [
        "O **ticket médio** do produto B é o maior."
      ]
    },
    {
      "cell_type": "code",
      "metadata": {
        "id": "wdkotGV0jTbm"
      },
      "source": [
        "#@title\n",
        "corr_df = pd.get_dummies(df[['valor_venda',\n",
        "       'pol_comissao', 'valor_comissao', 'estado_cliente', 'estado_vendedor',\n",
        "       'produto', 'vendedor_id']]).corr()"
      ],
      "execution_count": 28,
      "outputs": []
    },
    {
      "cell_type": "markdown",
      "metadata": {
        "id": "_Lz2qfSy_Rvm"
      },
      "source": [
        "\n",
        "\n",
        "---\n",
        "\n",
        "\n",
        "\n",
        "---\n",
        "\n",
        "\n",
        "**Tabela de correlação:**"
      ]
    },
    {
      "cell_type": "code",
      "metadata": {
        "colab": {
          "base_uri": "https://localhost:8080/",
          "height": 193
        },
        "id": "kds6nwXNn8Vl",
        "outputId": "6c79e0b7-33fa-4740-a852-13ec00eae735"
      },
      "source": [
        "#@title\n",
        "corr_df.query(\"valor_venda > 0.75\")"
      ],
      "execution_count": 29,
      "outputs": [
        {
          "output_type": "execute_result",
          "data": {
            "text/html": [
              "<div>\n",
              "<style scoped>\n",
              "    .dataframe tbody tr th:only-of-type {\n",
              "        vertical-align: middle;\n",
              "    }\n",
              "\n",
              "    .dataframe tbody tr th {\n",
              "        vertical-align: top;\n",
              "    }\n",
              "\n",
              "    .dataframe thead th {\n",
              "        text-align: right;\n",
              "    }\n",
              "</style>\n",
              "<table border=\"1\" class=\"dataframe\">\n",
              "  <thead>\n",
              "    <tr style=\"text-align: right;\">\n",
              "      <th></th>\n",
              "      <th>valor_venda</th>\n",
              "      <th>valor_comissao</th>\n",
              "      <th>pol_comissao_0.01</th>\n",
              "      <th>pol_comissao_0.026</th>\n",
              "      <th>pol_comissao_0.04</th>\n",
              "      <th>pol_comissao_1.0%</th>\n",
              "      <th>pol_comissao_un.</th>\n",
              "      <th>estado_cliente_BA</th>\n",
              "      <th>estado_cliente_MG</th>\n",
              "      <th>estado_cliente_PR</th>\n",
              "      <th>estado_cliente_RS</th>\n",
              "      <th>estado_cliente_SC</th>\n",
              "      <th>estado_cliente_SP</th>\n",
              "      <th>estado_vendedor_AC</th>\n",
              "      <th>estado_vendedor_AL</th>\n",
              "      <th>estado_vendedor_MG</th>\n",
              "      <th>estado_vendedor_PE</th>\n",
              "      <th>estado_vendedor_PR</th>\n",
              "      <th>estado_vendedor_RJ</th>\n",
              "      <th>estado_vendedor_RS</th>\n",
              "      <th>estado_vendedor_SC</th>\n",
              "      <th>estado_vendedor_SP</th>\n",
              "      <th>produto_A</th>\n",
              "      <th>produto_B</th>\n",
              "      <th>produto_C</th>\n",
              "      <th>produto_D</th>\n",
              "      <th>produto_E</th>\n",
              "      <th>produto_F</th>\n",
              "      <th>vendedor_id_V_1</th>\n",
              "      <th>vendedor_id_V_10</th>\n",
              "      <th>vendedor_id_V_11</th>\n",
              "      <th>vendedor_id_V_12</th>\n",
              "      <th>vendedor_id_V_13</th>\n",
              "      <th>vendedor_id_V_14</th>\n",
              "      <th>vendedor_id_V_15</th>\n",
              "      <th>vendedor_id_V_16</th>\n",
              "      <th>vendedor_id_V_17</th>\n",
              "      <th>vendedor_id_V_18</th>\n",
              "      <th>vendedor_id_V_19</th>\n",
              "      <th>vendedor_id_V_2</th>\n",
              "      <th>vendedor_id_V_20</th>\n",
              "      <th>vendedor_id_V_21</th>\n",
              "      <th>vendedor_id_V_22</th>\n",
              "      <th>vendedor_id_V_23</th>\n",
              "      <th>vendedor_id_V_24</th>\n",
              "      <th>vendedor_id_V_25</th>\n",
              "      <th>vendedor_id_V_26</th>\n",
              "      <th>vendedor_id_V_27</th>\n",
              "      <th>vendedor_id_V_3</th>\n",
              "      <th>vendedor_id_V_30</th>\n",
              "      <th>vendedor_id_V_31</th>\n",
              "      <th>vendedor_id_V_32</th>\n",
              "      <th>vendedor_id_V_34</th>\n",
              "      <th>vendedor_id_V_36</th>\n",
              "      <th>vendedor_id_V_39</th>\n",
              "      <th>vendedor_id_V_4</th>\n",
              "      <th>vendedor_id_V_40</th>\n",
              "      <th>vendedor_id_V_41</th>\n",
              "      <th>vendedor_id_V_45</th>\n",
              "      <th>vendedor_id_V_46</th>\n",
              "      <th>vendedor_id_V_47</th>\n",
              "      <th>vendedor_id_V_5</th>\n",
              "      <th>vendedor_id_V_6</th>\n",
              "      <th>vendedor_id_V_7</th>\n",
              "      <th>vendedor_id_V_8</th>\n",
              "      <th>vendedor_id_V_9</th>\n",
              "    </tr>\n",
              "  </thead>\n",
              "  <tbody>\n",
              "    <tr>\n",
              "      <th>valor_venda</th>\n",
              "      <td>1.000000</td>\n",
              "      <td>0.763333</td>\n",
              "      <td>0.784569</td>\n",
              "      <td>-0.647777</td>\n",
              "      <td>-0.128076</td>\n",
              "      <td>0.289132</td>\n",
              "      <td>NaN</td>\n",
              "      <td>-0.236351</td>\n",
              "      <td>0.025430</td>\n",
              "      <td>0.338527</td>\n",
              "      <td>NaN</td>\n",
              "      <td>NaN</td>\n",
              "      <td>-0.161190</td>\n",
              "      <td>-0.098709</td>\n",
              "      <td>-0.064284</td>\n",
              "      <td>-0.063020</td>\n",
              "      <td>0.118873</td>\n",
              "      <td>NaN</td>\n",
              "      <td>-0.088303</td>\n",
              "      <td>0.134117</td>\n",
              "      <td>0.072229</td>\n",
              "      <td>-0.066738</td>\n",
              "      <td>NaN</td>\n",
              "      <td>0.862586</td>\n",
              "      <td>-0.647777</td>\n",
              "      <td>NaN</td>\n",
              "      <td>-0.128076</td>\n",
              "      <td>NaN</td>\n",
              "      <td>NaN</td>\n",
              "      <td>NaN</td>\n",
              "      <td>NaN</td>\n",
              "      <td>NaN</td>\n",
              "      <td>NaN</td>\n",
              "      <td>-0.038465</td>\n",
              "      <td>-0.038465</td>\n",
              "      <td>NaN</td>\n",
              "      <td>NaN</td>\n",
              "      <td>NaN</td>\n",
              "      <td>-0.235067</td>\n",
              "      <td>NaN</td>\n",
              "      <td>NaN</td>\n",
              "      <td>NaN</td>\n",
              "      <td>-0.163686</td>\n",
              "      <td>NaN</td>\n",
              "      <td>-0.228742</td>\n",
              "      <td>0.615608</td>\n",
              "      <td>-0.161319</td>\n",
              "      <td>NaN</td>\n",
              "      <td>NaN</td>\n",
              "      <td>NaN</td>\n",
              "      <td>NaN</td>\n",
              "      <td>NaN</td>\n",
              "      <td>0.118873</td>\n",
              "      <td>-0.064284</td>\n",
              "      <td>NaN</td>\n",
              "      <td>NaN</td>\n",
              "      <td>-0.081144</td>\n",
              "      <td>-0.018643</td>\n",
              "      <td>0.289132</td>\n",
              "      <td>0.221465</td>\n",
              "      <td>0.079583</td>\n",
              "      <td>0.503727</td>\n",
              "      <td>0.073416</td>\n",
              "      <td>-0.160028</td>\n",
              "      <td>-0.164805</td>\n",
              "      <td>-0.161190</td>\n",
              "    </tr>\n",
              "    <tr>\n",
              "      <th>valor_comissao</th>\n",
              "      <td>0.763333</td>\n",
              "      <td>1.000000</td>\n",
              "      <td>0.573115</td>\n",
              "      <td>-0.214438</td>\n",
              "      <td>0.639909</td>\n",
              "      <td>NaN</td>\n",
              "      <td>-0.606381</td>\n",
              "      <td>-0.131889</td>\n",
              "      <td>0.290763</td>\n",
              "      <td>0.530538</td>\n",
              "      <td>-0.078927</td>\n",
              "      <td>-0.078927</td>\n",
              "      <td>-0.143622</td>\n",
              "      <td>0.041832</td>\n",
              "      <td>0.153771</td>\n",
              "      <td>-0.101324</td>\n",
              "      <td>0.000108</td>\n",
              "      <td>-0.081591</td>\n",
              "      <td>-0.221721</td>\n",
              "      <td>0.173625</td>\n",
              "      <td>0.288521</td>\n",
              "      <td>-0.155921</td>\n",
              "      <td>-0.162990</td>\n",
              "      <td>0.573115</td>\n",
              "      <td>-0.214438</td>\n",
              "      <td>-0.227736</td>\n",
              "      <td>0.639909</td>\n",
              "      <td>-0.303272</td>\n",
              "      <td>-0.046036</td>\n",
              "      <td>-0.064323</td>\n",
              "      <td>-0.064323</td>\n",
              "      <td>-0.064323</td>\n",
              "      <td>-0.064323</td>\n",
              "      <td>0.310561</td>\n",
              "      <td>0.310561</td>\n",
              "      <td>-0.085658</td>\n",
              "      <td>-0.085658</td>\n",
              "      <td>-0.085658</td>\n",
              "      <td>-0.131993</td>\n",
              "      <td>-0.046036</td>\n",
              "      <td>-0.112286</td>\n",
              "      <td>-0.166353</td>\n",
              "      <td>-0.092934</td>\n",
              "      <td>-0.046036</td>\n",
              "      <td>-0.083243</td>\n",
              "      <td>0.197817</td>\n",
              "      <td>-0.102584</td>\n",
              "      <td>-0.064323</td>\n",
              "      <td>-0.046036</td>\n",
              "      <td>-0.046036</td>\n",
              "      <td>-0.107264</td>\n",
              "      <td>-0.060232</td>\n",
              "      <td>0.000108</td>\n",
              "      <td>0.230098</td>\n",
              "      <td>-0.064323</td>\n",
              "      <td>-0.046036</td>\n",
              "      <td>0.279404</td>\n",
              "      <td>0.244094</td>\n",
              "      <td>NaN</td>\n",
              "      <td>0.201231</td>\n",
              "      <td>0.089788</td>\n",
              "      <td>0.431255</td>\n",
              "      <td>0.095993</td>\n",
              "      <td>-0.076499</td>\n",
              "      <td>-0.060239</td>\n",
              "      <td>NaN</td>\n",
              "    </tr>\n",
              "    <tr>\n",
              "      <th>pol_comissao_0.01</th>\n",
              "      <td>0.784569</td>\n",
              "      <td>0.573115</td>\n",
              "      <td>1.000000</td>\n",
              "      <td>-0.150840</td>\n",
              "      <td>-0.107198</td>\n",
              "      <td>-0.032288</td>\n",
              "      <td>-0.399586</td>\n",
              "      <td>-0.081210</td>\n",
              "      <td>0.291548</td>\n",
              "      <td>0.291548</td>\n",
              "      <td>-0.065598</td>\n",
              "      <td>-0.065598</td>\n",
              "      <td>-0.118787</td>\n",
              "      <td>-0.065598</td>\n",
              "      <td>-0.056510</td>\n",
              "      <td>0.126255</td>\n",
              "      <td>0.148600</td>\n",
              "      <td>-0.081210</td>\n",
              "      <td>-0.073356</td>\n",
              "      <td>0.022800</td>\n",
              "      <td>0.061084</td>\n",
              "      <td>-0.059591</td>\n",
              "      <td>-0.161025</td>\n",
              "      <td>0.943339</td>\n",
              "      <td>-0.150840</td>\n",
              "      <td>-0.161025</td>\n",
              "      <td>-0.107198</td>\n",
              "      <td>-0.161025</td>\n",
              "      <td>-0.045899</td>\n",
              "      <td>-0.045899</td>\n",
              "      <td>-0.045899</td>\n",
              "      <td>-0.045899</td>\n",
              "      <td>-0.045899</td>\n",
              "      <td>-0.045899</td>\n",
              "      <td>-0.045899</td>\n",
              "      <td>-0.045899</td>\n",
              "      <td>-0.045899</td>\n",
              "      <td>-0.045899</td>\n",
              "      <td>-0.081210</td>\n",
              "      <td>-0.045899</td>\n",
              "      <td>-0.073734</td>\n",
              "      <td>-0.094809</td>\n",
              "      <td>-0.065598</td>\n",
              "      <td>-0.045899</td>\n",
              "      <td>-0.081210</td>\n",
              "      <td>0.291548</td>\n",
              "      <td>-0.065598</td>\n",
              "      <td>-0.045899</td>\n",
              "      <td>-0.045899</td>\n",
              "      <td>-0.045899</td>\n",
              "      <td>-0.065598</td>\n",
              "      <td>-0.032288</td>\n",
              "      <td>0.148600</td>\n",
              "      <td>-0.045899</td>\n",
              "      <td>-0.045899</td>\n",
              "      <td>-0.045899</td>\n",
              "      <td>-0.056510</td>\n",
              "      <td>-0.032288</td>\n",
              "      <td>-0.032288</td>\n",
              "      <td>0.319292</td>\n",
              "      <td>0.319292</td>\n",
              "      <td>0.453893</td>\n",
              "      <td>0.453893</td>\n",
              "      <td>-0.045899</td>\n",
              "      <td>-0.045899</td>\n",
              "      <td>-0.045899</td>\n",
              "    </tr>\n",
              "    <tr>\n",
              "      <th>produto_B</th>\n",
              "      <td>0.862586</td>\n",
              "      <td>0.573115</td>\n",
              "      <td>0.943339</td>\n",
              "      <td>-0.159901</td>\n",
              "      <td>-0.113636</td>\n",
              "      <td>0.301200</td>\n",
              "      <td>-0.423587</td>\n",
              "      <td>-0.086088</td>\n",
              "      <td>0.271200</td>\n",
              "      <td>0.271200</td>\n",
              "      <td>-0.069538</td>\n",
              "      <td>-0.069538</td>\n",
              "      <td>-0.125922</td>\n",
              "      <td>-0.069538</td>\n",
              "      <td>-0.059904</td>\n",
              "      <td>0.109091</td>\n",
              "      <td>0.135783</td>\n",
              "      <td>-0.086088</td>\n",
              "      <td>-0.087056</td>\n",
              "      <td>0.005221</td>\n",
              "      <td>0.043947</td>\n",
              "      <td>0.014213</td>\n",
              "      <td>-0.170697</td>\n",
              "      <td>1.000000</td>\n",
              "      <td>-0.159901</td>\n",
              "      <td>-0.170697</td>\n",
              "      <td>-0.113636</td>\n",
              "      <td>-0.170697</td>\n",
              "      <td>-0.048656</td>\n",
              "      <td>-0.048656</td>\n",
              "      <td>-0.048656</td>\n",
              "      <td>-0.048656</td>\n",
              "      <td>-0.048656</td>\n",
              "      <td>-0.048656</td>\n",
              "      <td>-0.048656</td>\n",
              "      <td>-0.048656</td>\n",
              "      <td>-0.048656</td>\n",
              "      <td>-0.048656</td>\n",
              "      <td>-0.086088</td>\n",
              "      <td>-0.048656</td>\n",
              "      <td>-0.078163</td>\n",
              "      <td>-0.100504</td>\n",
              "      <td>-0.069538</td>\n",
              "      <td>-0.048656</td>\n",
              "      <td>-0.086088</td>\n",
              "      <td>0.271200</td>\n",
              "      <td>-0.069538</td>\n",
              "      <td>-0.048656</td>\n",
              "      <td>-0.048656</td>\n",
              "      <td>-0.048656</td>\n",
              "      <td>-0.069538</td>\n",
              "      <td>-0.034227</td>\n",
              "      <td>0.135783</td>\n",
              "      <td>-0.048656</td>\n",
              "      <td>-0.048656</td>\n",
              "      <td>-0.048656</td>\n",
              "      <td>-0.059904</td>\n",
              "      <td>-0.034227</td>\n",
              "      <td>0.301200</td>\n",
              "      <td>0.301200</td>\n",
              "      <td>0.301200</td>\n",
              "      <td>0.428174</td>\n",
              "      <td>0.428174</td>\n",
              "      <td>-0.048656</td>\n",
              "      <td>-0.048656</td>\n",
              "      <td>-0.048656</td>\n",
              "    </tr>\n",
              "  </tbody>\n",
              "</table>\n",
              "</div>"
            ],
            "text/plain": [
              "                   valor_venda  ...  vendedor_id_V_9\n",
              "valor_venda           1.000000  ...        -0.161190\n",
              "valor_comissao        0.763333  ...              NaN\n",
              "pol_comissao_0.01     0.784569  ...        -0.045899\n",
              "produto_B             0.862586  ...        -0.048656\n",
              "\n",
              "[4 rows x 66 columns]"
            ]
          },
          "metadata": {},
          "execution_count": 29
        }
      ]
    },
    {
      "cell_type": "markdown",
      "metadata": {
        "id": "330iG8BFAI-z"
      },
      "source": [
        "Quando observamos a **correlação** entre as variáveis, vemos que o valor de venda está fortemente correlacionado com: \n",
        "\n",
        "* o valor da comissão;\n",
        "* a política de comissão 0.01;\n",
        "* o produto B.\n",
        "\n",
        "Por sua vez, **o valor da comissão está fortemente correlacionado com o valor de venda.**\n",
        "\n",
        "Esses indícios poderiam ser melhor explorados com mais dados."
      ]
    },
    {
      "cell_type": "code",
      "metadata": {
        "colab": {
          "base_uri": "https://localhost:8080/",
          "height": 353
        },
        "id": "cwDAMlmUoGeA",
        "outputId": "a8f9382e-95b1-493e-8599-9bcfff22acfd"
      },
      "source": [
        "#@title\n",
        "sns.heatmap(corr_df.query(\"valor_venda > 0.75\")[['valor_venda', 'valor_comissao', 'pol_comissao_0.01', 'produto_B']])\n",
        "plt.title('Mapa de calor da correlação')\n",
        "plt.show()"
      ],
      "execution_count": 30,
      "outputs": [
        {
          "output_type": "display_data",
          "data": {
            "image/png": "[encoded data removed]",
            "text/plain": [
              "<Figure size 432x288 with 2 Axes>"
            ]
          },
          "metadata": {
            "needs_background": "light"
          }
        }
      ]
    }
  ]
}